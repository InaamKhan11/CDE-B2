{
 "cells": [
  {
   "cell_type": "markdown",
   "id": "94be2c13",
   "metadata": {},
   "source": [
    "## Type of Inheritance\n",
    "![inheritance](imgs/inheritance.png)"
   ]
  },
  {
   "cell_type": "markdown",
   "id": "a5fe0d6f",
   "metadata": {},
   "source": []
  },
  {
   "cell_type": "code",
   "execution_count": null,
   "id": "527c0bf8",
   "metadata": {},
   "outputs": [],
   "source": [
    "# Heirarchial Inheritance\n",
    "# car -> parent\n",
    "# sports car -> child\n",
    "# family car -> child\n",
    "\n",
    "# Parent Class\n",
    "class car():\n",
    "    # Class variables\n",
    "    wheels = 4\n",
    "    steering = 1\n",
    "    headlights = 2\n",
    "    backlights = 2\n",
    "\n",
    "    # Constructor\n",
    "    def __init__(self, name : str, model:int, make:str):\n",
    "        self.name = name\n",
    "        self.model = model\n",
    "        self.make = make\n",
    "        \n",
    "    # Method with no attributes\n",
    "    def drive(self):\n",
    "        return 'Car is moving forward'\n",
    "\n",
    "    #method with attributes\n",
    "    def engine_capacity(self, cc : int):\n",
    "        self.cc = cc\n",
    "\n",
    "    # calculated methods\n",
    "    def mileage(self, km : float, avg : float):\n",
    "        mileage = km * avg\n",
    "        return mileage\n",
    "\n",
    "# Child Class\n",
    "class sports_car(car):\n",
    "    def __init__(self, name : str, model:int, make:str, doors:int, roof:bool, spoiler:bool):\n",
    "        super().__init__(name, model, make) # car.__init__(self, name, model, year) -> another way to initialize constructor\n",
    "        self.doors = doors\n",
    "        self.roof = roof\n",
    "        self.spoiler = spoiler\n",
    "\n",
    "    def info(self):\n",
    "        return (f'{self.name} is a sports car designed by {self.make} in year {self.model} having {self.doors} doors.')\n",
    "\n",
    "# Child Class\n",
    "class family_car(car):\n",
    "    def __init__(self, name: str, model: int, make: str, seats: int, doors: int, airbag: bool):\n",
    "        super().__init__(name, model, make)  # Parent class constructor call\n",
    "        self.seats = seats\n",
    "        self.doors = doors\n",
    "        self.airbag = airbag\n"
   ]
  },
  {
   "cell_type": "code",
   "execution_count": 29,
   "id": "eaf986b8",
   "metadata": {},
   "outputs": [],
   "source": [
    "class grandparent:\n",
    "    def heritage(self):\n",
    "        return 'I am the grandparent'\n",
    "    \n",
    "class parent(grandparent):\n",
    "    def values(self):\n",
    "        return 'I am the parent'\n",
    "    \n",
    "class child(parent):\n",
    "    def hobby(self):\n",
    "        return 'I am the child'\n",
    "    "
   ]
  },
  {
   "cell_type": "code",
   "execution_count": 31,
   "id": "2aab5394",
   "metadata": {},
   "outputs": [
    {
     "name": "stdout",
     "output_type": "stream",
     "text": [
      "I am the child\n",
      "I am the parent\n",
      "I am the grandparent\n"
     ]
    }
   ],
   "source": [
    "children = child()\n",
    "print(children.hobby())\n",
    "print(children.values())\n",
    "print(children.heritage())\n"
   ]
  },
  {
   "cell_type": "markdown",
   "id": "725ddd09",
   "metadata": {},
   "source": [
    "### Abstraction\n",
    "\n",
    "this concept of hiding the complex reality of the code and only exposing the necessary part of the code.\n",
    "\n",
    "- A class comtaining one or more abstract method\n",
    "- Abstract method dose not contain their implementations\n",
    "- abstract class are the blueprint of the other class\n",
    "- these classes and used to write complex and large codes\n",
    "- acstract classes can note referenced with a object"
   ]
  },
  {
   "cell_type": "code",
   "execution_count": 33,
   "id": "4efe0427",
   "metadata": {},
   "outputs": [
    {
     "name": "stdout",
     "output_type": "stream",
     "text": [
      "triangle has 3 sides\n"
     ]
    }
   ],
   "source": [
    "class shapes: \n",
    "    def sides(self):\n",
    "        pass\n",
    "\n",
    "class triangle(shapes):\n",
    "    def sides(self):\n",
    "        print(\"triangle has 3 sides\")\n",
    "\n",
    "triangle = triangle()\n",
    "triangle.sides()"
   ]
  },
  {
   "cell_type": "markdown",
   "id": "836077c2",
   "metadata": {},
   "source": [
    "## Overloading \n",
    "\n",
    "Using a method in multiple ways\n",
    "- Funcation Overloading \n",
    "- Operator Overloading"
   ]
  },
  {
   "cell_type": "code",
   "execution_count": 36,
   "id": "ba9ad8eb",
   "metadata": {},
   "outputs": [
    {
     "name": "stdout",
     "output_type": "stream",
     "text": [
      "15 <class 'int'>\n",
      "16.0 <class 'float'>\n",
      "HelloWorld <class 'str'>\n"
     ]
    }
   ],
   "source": [
    "from typing import overload\n",
    "\n",
    "class Adder():\n",
    "    @overload\n",
    "    def add(self, x:int, y:int) -> int:\n",
    "        pass\n",
    "    \n",
    "    @overload\n",
    "    def add(self, x:str, y:str) -> float:\n",
    "        pass\n",
    "\n",
    "    @overload\n",
    "\n",
    "    def add(self, x:float, y:float) -> str:\n",
    "        pass\n",
    "\n",
    "\n",
    "    def add(self, x, y):\n",
    "        if isinstance(x, int) and isinstance(y, int):\n",
    "            return x + y\n",
    "        elif isinstance(x, float) and isinstance(y, float):\n",
    "            return x + y\n",
    "        elif isinstance(x, str) and isinstance(y, str):\n",
    "            return x + y\n",
    "        else:\n",
    "            raise TypeError(\"Invalid input types\")\n",
    "        \n",
    "    \n",
    "adder_instance = Adder()\n",
    "result1 = adder_instance.add(5, 10)  # returns int\n",
    "result2 = adder_instance.add(5.5, 10.5)  # returns float\n",
    "result3 = adder_instance.add(\"Hello\", \"World\")  # returns string\n",
    "print(result1, type(result1))\n",
    "print(result2, type(result2))\n",
    "print(result3, type(result3))"
   ]
  },
  {
   "cell_type": "markdown",
   "id": "b42996e9",
   "metadata": {},
   "source": [
    "### Polymorphism\n",
    "\n",
    "Ther ability of different classes to execute same command or method but in different ways "
   ]
  },
  {
   "cell_type": "code",
   "execution_count": 38,
   "id": "b8b67549",
   "metadata": {},
   "outputs": [],
   "source": [
    "class bird:\n",
    "    def eating(self, food: str):\n",
    "        print(f\"The bird is eating {food}\")\n",
    "        "
   ]
  },
  {
   "cell_type": "code",
   "execution_count": 39,
   "id": "ce1f1712",
   "metadata": {},
   "outputs": [
    {
     "name": "stdout",
     "output_type": "stream",
     "text": [
      "The bird is eating seeds\n"
     ]
    }
   ],
   "source": [
    "totta = bird()\n",
    "totta.eating(\"seeds\")"
   ]
  },
  {
   "cell_type": "markdown",
   "id": "10daac70",
   "metadata": {},
   "source": [
    "## Encapsulation\n",
    "\n",
    "Defining the scope of the variables and liniting them to either a class method or object"
   ]
  },
  {
   "cell_type": "code",
   "execution_count": 41,
   "id": "d88d9a44",
   "metadata": {},
   "outputs": [
    {
     "ename": "SyntaxError",
     "evalue": "expected ':' (2948645035.py, line 2)",
     "output_type": "error",
     "traceback": [
      "  \u001b[36mCell\u001b[39m\u001b[36m \u001b[39m\u001b[32mIn[41]\u001b[39m\u001b[32m, line 2\u001b[39m\n\u001b[31m    \u001b[39m\u001b[31mdef __init__(self)  # Colon missing here\u001b[39m\n                        ^\n\u001b[31mSyntaxError\u001b[39m\u001b[31m:\u001b[39m expected ':'\n"
     ]
    }
   ],
   "source": [
    "class saylani:\n",
    "    def __init__(self)  # Colon missing here\n",
    "        self.roll = '7000'\n",
    "        self._branch = 'Ali'\n",
    "        self.__students = 800\n"
   ]
  },
  {
   "cell_type": "markdown",
   "id": "20554340",
   "metadata": {},
   "source": [
    "**Task**\n",
    "\n",
    "- Create an excapsulation class i.e \"Studentlogin()\"\n",
    "- Initialize 2 \"static\" but \"private\" attributes i.e \"__username\" and \"__password\"\n",
    "- Crete one _private method_ i.e \"_dbconnectivity\" that will validate your username and password\n",
    "    - if both are valid print \"Connection Built\"\n",
    "    - if either one is wrong print \"Faild to connect\"\n",
    "- Create one Public method i.e update_password to update ypur private"
   ]
  }
 ],
 "metadata": {
  "kernelspec": {
   "display_name": "Python 3",
   "language": "python",
   "name": "python3"
  },
  "language_info": {
   "codemirror_mode": {
    "name": "ipython",
    "version": 3
   },
   "file_extension": ".py",
   "mimetype": "text/x-python",
   "name": "python",
   "nbconvert_exporter": "python",
   "pygments_lexer": "ipython3",
   "version": "3.12.4"
  }
 },
 "nbformat": 4,
 "nbformat_minor": 5
}
