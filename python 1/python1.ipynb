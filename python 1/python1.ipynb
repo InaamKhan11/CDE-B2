{
 "cells": [
  {
   "cell_type": "code",
   "execution_count": 1,
   "id": "1c29b939-62a0-4d22-bab5-28671f3facd8",
   "metadata": {},
   "outputs": [
    {
     "name": "stdout",
     "output_type": "stream",
     "text": [
      "cloud data engineering batch 2\n"
     ]
    }
   ],
   "source": [
    "print(\"cloud data engineering batch 2\")"
   ]
  },
  {
   "cell_type": "code",
   "execution_count": 9,
   "id": "aaa71787-c1a7-4f49-8be3-1f780e0609ee",
   "metadata": {},
   "outputs": [],
   "source": [
    "name = \"inaam ahmed\" # this is a veriable name is a veriable"
   ]
  },
  {
   "cell_type": "code",
   "execution_count": 17,
   "id": "5df07c13-ca83-473f-b306-7d3b18acee86",
   "metadata": {},
   "outputs": [
    {
     "name": "stdout",
     "output_type": "stream",
     "text": [
      "inaam ahmed\n"
     ]
    }
   ],
   "source": [
    "print(name)"
   ]
  },
  {
   "cell_type": "code",
   "execution_count": 19,
   "id": "af135781-6575-41b4-9ccc-fa52ce248308",
   "metadata": {},
   "outputs": [
    {
     "data": {
      "text/plain": [
       "str"
      ]
     },
     "execution_count": 19,
     "metadata": {},
     "output_type": "execute_result"
    }
   ],
   "source": [
    "type(name)"
   ]
  },
  {
   "cell_type": "markdown",
   "id": "1d5a275a-0b1b-420a-a162-14f37b305880",
   "metadata": {},
   "source": [
    "#### Shortcut keys\n",
    "\n",
    "\n",
    "1. shift + enter call the code\n",
    "\n",
    "2. ESC + A to add a cell above\n",
    "\n",
    "3. esc + B to add a cell below\n",
    "\n",
    "4. esc + M to convert the cell to markdown\n"
   ]
  },
  {
   "cell_type": "code",
   "execution_count": 36,
   "id": "66b7a4ee-8f4d-4c1f-8e7a-9d72662a2d20",
   "metadata": {},
   "outputs": [
    {
     "name": "stdout",
     "output_type": "stream",
     "text": [
      "26\n",
      "<class 'int'>\n"
     ]
    }
   ],
   "source": [
    "age = 26\n",
    "print(age)\n",
    "print(type(age))"
   ]
  },
  {
   "cell_type": "markdown",
   "id": "cadfa98c-abf2-4210-8125-851dc60f0b88",
   "metadata": {},
   "source": [
    "### Veriables \n",
    "\n",
    "- string = str\n",
    "- integer = int\n",
    "- float = flt\n",
    "- boolean = bool\n",
    "\n",
    "- veriable \" name\" can't with number \"123\". \n",
    "- veriable name can't have space \" \".\n",
    "- can use underscore \"_\" insted of space\n",
    "- can't use anything expect \"_\"\n",
    "- user precise (meaningful) and valid name\n",
    "\n",
    "Note: can't use the 'reserve words' for veriable name"
   ]
  },
  {
   "cell_type": "code",
   "execution_count": 42,
   "id": "1a7e6f32-8f20-4753-91bd-2074b68c46ae",
   "metadata": {},
   "outputs": [
    {
     "data": {
      "text/plain": [
       "20"
      ]
     },
     "execution_count": 42,
     "metadata": {},
     "output_type": "execute_result"
    }
   ],
   "source": [
    "19 + int(\"1\") # this is a typecasting"
   ]
  },
  {
   "cell_type": "markdown",
   "id": "0c0f6308-3278-444b-8e44-5ed4ecedb323",
   "metadata": {},
   "source": [
    "### Math expressions: Familiar operators\n",
    "\n",
    "'+'\n",
    "'-'\n",
    "'*'\n",
    "'/'"
   ]
  },
  {
   "cell_type": "code",
   "execution_count": 69,
   "id": "0043cc1d-0f34-413a-958f-e1dd2e1f0946",
   "metadata": {},
   "outputs": [
    {
     "data": {
      "text/plain": [
       "2.65625"
      ]
     },
     "execution_count": 69,
     "metadata": {},
     "output_type": "execute_result"
    }
   ],
   "source": [
    "age"
   ]
  },
  {
   "cell_type": "code",
   "execution_count": 57,
   "id": "1cf65e65-8c1b-46d2-a0db-ca7f7a75bf76",
   "metadata": {},
   "outputs": [],
   "source": [
    "age /=4"
   ]
  },
  {
   "cell_type": "code",
   "execution_count": 59,
   "id": "cb58ea82-ce63-4a05-8fd1-91ca247d274e",
   "metadata": {},
   "outputs": [
    {
     "data": {
      "text/plain": [
       "0.65625"
      ]
     },
     "execution_count": 59,
     "metadata": {},
     "output_type": "execute_result"
    }
   ],
   "source": [
    "age"
   ]
  },
  {
   "cell_type": "code",
   "execution_count": 75,
   "id": "73b74555-27c5-4b34-b64f-78131dbb0699",
   "metadata": {},
   "outputs": [
    {
     "name": "stdout",
     "output_type": "stream",
     "text": [
      "2\n"
     ]
    }
   ],
   "source": [
    "print(int(age))"
   ]
  },
  {
   "cell_type": "code",
   "execution_count": 77,
   "id": "2431a53f-cc16-4145-b1f9-e1ddd31c7f38",
   "metadata": {},
   "outputs": [
    {
     "data": {
      "text/plain": [
       "2.65625"
      ]
     },
     "execution_count": 77,
     "metadata": {},
     "output_type": "execute_result"
    }
   ],
   "source": [
    "age"
   ]
  },
  {
   "cell_type": "code",
   "execution_count": 9,
   "id": "13a0345c-77c0-4cd3-bfc8-70b9367f4cb6",
   "metadata": {},
   "outputs": [],
   "source": [
    "first_name = \"inaam\"\n",
    "last_name = \"ahmed\""
   ]
  },
  {
   "cell_type": "code",
   "execution_count": 10,
   "id": "e1616c70",
   "metadata": {},
   "outputs": [
    {
     "data": {
      "text/plain": [
       "'inaam ahmed'"
      ]
     },
     "execution_count": 10,
     "metadata": {},
     "output_type": "execute_result"
    }
   ],
   "source": [
    "f'{first_name} {last_name}'"
   ]
  },
  {
   "cell_type": "code",
   "execution_count": null,
   "id": "4342f433",
   "metadata": {},
   "outputs": [],
   "source": []
  }
 ],
 "metadata": {
  "kernelspec": {
   "display_name": "base",
   "language": "python",
   "name": "python3"
  },
  "language_info": {
   "codemirror_mode": {
    "name": "ipython",
    "version": 3
   },
   "file_extension": ".py",
   "mimetype": "text/x-python",
   "name": "python",
   "nbconvert_exporter": "python",
   "pygments_lexer": "ipython3",
   "version": "3.12.7"
  }
 },
 "nbformat": 4,
 "nbformat_minor": 5
}
