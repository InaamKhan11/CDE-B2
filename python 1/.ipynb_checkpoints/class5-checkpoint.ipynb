{
 "cells": [
  {
   "cell_type": "code",
   "execution_count": null,
   "id": "a8ca23f0-481e-4c8e-982c-d0dd35a1ea85",
   "metadata": {},
   "outputs": [],
   "source": [
    "class saylani():\n",
    "    def_init_(self, student):\n",
    "        self.student = 80\n",
    "    print()"
   ]
  }
 ],
 "metadata": {
  "kernelspec": {
   "display_name": "Python 3 (ipykernel)",
   "language": "python",
   "name": "python3"
  },
  "language_info": {
   "codemirror_mode": {
    "name": "ipython",
    "version": 3
   },
   "file_extension": ".py",
   "mimetype": "text/x-python",
   "name": "python",
   "nbconvert_exporter": "python",
   "pygments_lexer": "ipython3",
   "version": "3.12.4"
  }
 },
 "nbformat": 4,
 "nbformat_minor": 5
}
