{
 "cells": [
  {
   "cell_type": "markdown",
   "id": "16f8ad05",
   "metadata": {},
   "source": [
    "# Classes"
   ]
  },
  {
   "cell_type": "code",
   "execution_count": 5,
   "id": "a8ca23f0-481e-4c8e-982c-d0dd35a1ea85",
   "metadata": {},
   "outputs": [],
   "source": [
    "class saylani():\n",
    "    def __init__(self, student):\n",
    "        self.student = student  # Use the parameter value\n",
    "        # print(f\"Student initialized with value: {self.student}\")"
   ]
  },
  {
   "cell_type": "code",
   "execution_count": 6,
   "id": "6af9d5d4",
   "metadata": {},
   "outputs": [
    {
     "name": "stdout",
     "output_type": "stream",
     "text": [
      "80\n"
     ]
    }
   ],
   "source": [
    "obj = saylani(\"80\")\n",
    "print(obj.student)"
   ]
  },
  {
   "cell_type": "code",
   "execution_count": 18,
   "id": "b771e165",
   "metadata": {},
   "outputs": [],
   "source": [
    "class smit:\n",
    "    def __init__(self, name, course, students, month):\n",
    "        self.name = name\n",
    "        self.course = course\n",
    "        self.students = students\n",
    "        self.month = month\n",
    "\n",
    "    def sent(name, course):\n",
    "        return(f\"{name} is teaching {course} at saylani.\")"
   ]
  },
  {
   "cell_type": "code",
   "execution_count": 19,
   "id": "3f0e13d5",
   "metadata": {},
   "outputs": [
    {
     "name": "stdout",
     "output_type": "stream",
     "text": [
      "inaam is teaching CDE at saylani.\n"
     ]
    }
   ],
   "source": [
    "obj2 = smit(\"inaam\", \"CDE\", 150, 8)\n",
    "print(smit.sent(\"inaam\", \"CDE\"))  # Call the method with the class name"
   ]
  },
  {
   "cell_type": "code",
   "execution_count": null,
   "id": "34dadbd0",
   "metadata": {},
   "outputs": [
    {
     "data": {
      "text/plain": [
       "<function TextIOWrapper.close()>"
      ]
     },
     "execution_count": 1,
     "metadata": {},
     "output_type": "execute_result"
    }
   ],
   "source": [
    "# f = open(\"smit.txt\", \"w\")\n",
    "# f.write(\"Hello, World!\\n\")\n",
    "# f.close"
   ]
  },
  {
   "cell_type": "code",
   "execution_count": 63,
   "id": "236ddfcd",
   "metadata": {},
   "outputs": [],
   "source": [
    "# f = open(\"smit.txt\", \"a\")\n",
    "# f.write(\"Hello, World! aaaaaaaaaaaaaaaaaa\\n\")\n",
    "# f.close()"
   ]
  },
  {
   "cell_type": "code",
   "execution_count": 64,
   "id": "eb1e5cf8",
   "metadata": {},
   "outputs": [],
   "source": [
    "# f = open(\"smit.txt\", \"r\")\n",
    "# data = f.read()\n",
    "# print(data)\n",
    "# f.close()"
   ]
  },
  {
   "cell_type": "code",
   "execution_count": 2,
   "id": "0747d5ab",
   "metadata": {},
   "outputs": [
    {
     "ename": "PermissionError",
     "evalue": "[WinError 32] The process cannot access the file because it is being used by another process: 'smit.txt'",
     "output_type": "error",
     "traceback": [
      "\u001b[31m---------------------------------------------------------------------------\u001b[39m",
      "\u001b[31mPermissionError\u001b[39m                           Traceback (most recent call last)",
      "\u001b[36mCell\u001b[39m\u001b[36m \u001b[39m\u001b[32mIn[2]\u001b[39m\u001b[32m, line 2\u001b[39m\n\u001b[32m      1\u001b[39m \u001b[38;5;28;01mimport\u001b[39;00m\u001b[38;5;250m \u001b[39m\u001b[34;01mos\u001b[39;00m\n\u001b[32m----> \u001b[39m\u001b[32m2\u001b[39m \u001b[43mos\u001b[49m\u001b[43m.\u001b[49m\u001b[43mremove\u001b[49m\u001b[43m(\u001b[49m\u001b[33;43m\"\u001b[39;49m\u001b[33;43msmit.txt\u001b[39;49m\u001b[33;43m\"\u001b[39;49m\u001b[43m)\u001b[49m\n",
      "\u001b[31mPermissionError\u001b[39m: [WinError 32] The process cannot access the file because it is being used by another process: 'smit.txt'"
     ]
    }
   ],
   "source": [
    "import os\n",
    "os.remove(\"smit.txt\")"
   ]
  },
  {
   "cell_type": "code",
   "execution_count": null,
   "id": "e85c3159",
   "metadata": {},
   "outputs": [],
   "source": []
  }
 ],
 "metadata": {
  "kernelspec": {
   "display_name": "Python 3",
   "language": "python",
   "name": "python3"
  },
  "language_info": {
   "codemirror_mode": {
    "name": "ipython",
    "version": 3
   },
   "file_extension": ".py",
   "mimetype": "text/x-python",
   "name": "python",
   "nbconvert_exporter": "python",
   "pygments_lexer": "ipython3",
   "version": "3.12.4"
  }
 },
 "nbformat": 4,
 "nbformat_minor": 5
}
